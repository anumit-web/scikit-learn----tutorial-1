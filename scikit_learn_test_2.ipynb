{
  "nbformat": 4,
  "nbformat_minor": 0,
  "metadata": {
    "colab": {
      "provenance": [],
      "include_colab_link": true
    },
    "kernelspec": {
      "name": "python3",
      "display_name": "Python 3"
    },
    "language_info": {
      "name": "python"
    }
  },
  "cells": [
    {
      "cell_type": "markdown",
      "metadata": {
        "id": "view-in-github",
        "colab_type": "text"
      },
      "source": [
        "<a href=\"https://colab.research.google.com/github/anumit-web/scikit-learn----tutorial-1/blob/main/scikit_learn_test_2.ipynb\" target=\"_parent\"><img src=\"https://colab.research.google.com/assets/colab-badge.svg\" alt=\"Open In Colab\"/></a>"
      ]
    },
    {
      "cell_type": "markdown",
      "source": [
        "## scikit-learn\n"
      ],
      "metadata": {
        "id": "Oddud14LnY0w"
      }
    },
    {
      "cell_type": "markdown",
      "source": [
        "Python SciKit Learn Tutorial\n",
        "\n",
        "https://www.digitalocean.com/community/tutorials/python-scikit-learn-tutorial\n",
        "\n",
        "\n"
      ],
      "metadata": {
        "id": "1vIhByhKYMDA"
      }
    },
    {
      "cell_type": "code",
      "source": [
        "import sklearn"
      ],
      "metadata": {
        "id": "g--UkMF4Y9X3"
      },
      "execution_count": 6,
      "outputs": []
    },
    {
      "cell_type": "code",
      "source": [
        "# Import scikit learn\n",
        "from sklearn import datasets\n",
        "# Load data\n",
        "iris= datasets.load_iris()\n",
        "# Print shape of data to confirm data is loaded\n",
        "print(iris.data.shape)"
      ],
      "metadata": {
        "colab": {
          "base_uri": "https://localhost:8080/"
        },
        "id": "4vnR-YZyZP_8",
        "outputId": "be206a6e-72d0-40b9-8d15-83a57207a45d"
      },
      "execution_count": 7,
      "outputs": [
        {
          "output_type": "stream",
          "name": "stdout",
          "text": [
            "(150, 4)\n"
          ]
        }
      ]
    },
    {
      "cell_type": "code",
      "source": [
        "from sklearn import svm\n",
        "from sklearn import datasets\n",
        "# Load dataset\n",
        "iris = datasets.load_iris()\n",
        "clf = svm.LinearSVC()\n",
        "# learn from the data\n",
        "clf.fit(iris.data, iris.target)\n",
        "# predict for unseen data\n",
        "clf.predict([[ 5.0,  3.6,  1.3,  0.25]])\n",
        "# Parameters of model can be changed by using the attributes ending with an underscore\n",
        "print(clf.coef_ )"
      ],
      "metadata": {
        "id": "aLLW04QpaDQU",
        "outputId": "7c373684-7c8e-45f9-e223-ffc520c9f1f1",
        "colab": {
          "base_uri": "https://localhost:8080/"
        }
      },
      "execution_count": 8,
      "outputs": [
        {
          "output_type": "stream",
          "name": "stdout",
          "text": [
            "[[ 0.18423478  0.45122307 -0.80794488 -0.45071328]\n",
            " [ 0.05600363 -0.90052333  0.40847717 -0.95976856]\n",
            " [-0.85072978 -0.98675919  1.38102384  1.86537337]]\n"
          ]
        },
        {
          "output_type": "stream",
          "name": "stderr",
          "text": [
            "/usr/local/lib/python3.10/dist-packages/sklearn/svm/_base.py:1244: ConvergenceWarning: Liblinear failed to converge, increase the number of iterations.\n",
            "  warnings.warn(\n"
          ]
        }
      ]
    },
    {
      "cell_type": "code",
      "source": [],
      "metadata": {
        "id": "88emZCXYaKtq"
      },
      "execution_count": null,
      "outputs": []
    }
  ]
}