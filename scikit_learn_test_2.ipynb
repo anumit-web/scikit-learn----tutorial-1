{
  "nbformat": 4,
  "nbformat_minor": 0,
  "metadata": {
    "colab": {
      "provenance": [],
      "include_colab_link": true
    },
    "kernelspec": {
      "name": "python3",
      "display_name": "Python 3"
    },
    "language_info": {
      "name": "python"
    }
  },
  "cells": [
    {
      "cell_type": "markdown",
      "metadata": {
        "id": "view-in-github",
        "colab_type": "text"
      },
      "source": [
        "<a href=\"https://colab.research.google.com/github/anumit-web/scikit-learn----tutorial-1/blob/main/scikit_learn_test_2.ipynb\" target=\"_parent\"><img src=\"https://colab.research.google.com/assets/colab-badge.svg\" alt=\"Open In Colab\"/></a>"
      ]
    },
    {
      "cell_type": "markdown",
      "source": [
        "## scikit-learn\n"
      ],
      "metadata": {
        "id": "Oddud14LnY0w"
      }
    },
    {
      "cell_type": "markdown",
      "source": [
        "Python SciKit Learn Tutorial\n",
        "\n",
        "https://www.digitalocean.com/community/tutorials/python-scikit-learn-tutorial\n",
        "\n",
        "\n"
      ],
      "metadata": {
        "id": "1vIhByhKYMDA"
      }
    },
    {
      "cell_type": "code",
      "source": [
        "import sklearn"
      ],
      "metadata": {
        "id": "g--UkMF4Y9X3"
      },
      "execution_count": null,
      "outputs": []
    },
    {
      "cell_type": "code",
      "source": [
        "# Import scikit learn\n",
        "from sklearn import datasets\n",
        "# Load data\n",
        "iris= datasets.load_iris()\n",
        "# Print shape of data to confirm data is loaded\n",
        "print(iris.data.shape)"
      ],
      "metadata": {
        "id": "4vnR-YZyZP_8"
      },
      "execution_count": null,
      "outputs": []
    }
  ]
}