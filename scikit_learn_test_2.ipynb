{
  "nbformat": 4,
  "nbformat_minor": 0,
  "metadata": {
    "colab": {
      "provenance": [],
      "include_colab_link": true
    },
    "kernelspec": {
      "name": "python3",
      "display_name": "Python 3"
    },
    "language_info": {
      "name": "python"
    }
  },
  "cells": [
    {
      "cell_type": "markdown",
      "metadata": {
        "id": "view-in-github",
        "colab_type": "text"
      },
      "source": [
        "<a href=\"https://colab.research.google.com/github/anumit-web/scikit-learn----tutorial-1/blob/main/scikit_learn_test_2.ipynb\" target=\"_parent\"><img src=\"https://colab.research.google.com/assets/colab-badge.svg\" alt=\"Open In Colab\"/></a>"
      ]
    },
    {
      "cell_type": "markdown",
      "source": [
        "## scikit-learn\n"
      ],
      "metadata": {
        "id": "Oddud14LnY0w"
      }
    },
    {
      "cell_type": "markdown",
      "source": [
        "Python SciKit Learn Tutorial\n",
        "\n",
        "https://www.digitalocean.com/community/tutorials/python-scikit-learn-tutorial\n",
        "\n",
        "\n"
      ],
      "metadata": {
        "id": "1vIhByhKYMDA"
      }
    },
    {
      "cell_type": "code",
      "source": [
        "import sklearn"
      ],
      "metadata": {
        "id": "g--UkMF4Y9X3"
      },
      "execution_count": 19,
      "outputs": []
    },
    {
      "cell_type": "code",
      "source": [
        "# Import scikit learn\n",
        "from sklearn import datasets\n",
        "# Load data\n",
        "iris= datasets.load_iris()\n",
        "# Print shape of data to confirm data is loaded\n",
        "print(iris.data.shape)"
      ],
      "metadata": {
        "colab": {
          "base_uri": "https://localhost:8080/"
        },
        "id": "4vnR-YZyZP_8",
        "outputId": "d58ef8bc-695f-4897-f549-470c79c8919a"
      },
      "execution_count": 20,
      "outputs": [
        {
          "output_type": "stream",
          "name": "stdout",
          "text": [
            "(150, 4)\n"
          ]
        }
      ]
    },
    {
      "cell_type": "code",
      "source": [
        "from sklearn import svm\n",
        "from sklearn import datasets\n",
        "# Load dataset\n",
        "iris = datasets.load_iris()\n",
        "clf = svm.LinearSVC()\n",
        "# learn from the data\n",
        "clf.fit(iris.data, iris.target)\n",
        "# predict for unseen data\n",
        "clf.predict([[ 5.0,  3.6,  1.3,  0.25]])\n",
        "# Parameters of model can be changed by using the attributes ending with an underscore\n",
        "print(clf.coef_ )"
      ],
      "metadata": {
        "colab": {
          "base_uri": "https://localhost:8080/"
        },
        "id": "aLLW04QpaDQU",
        "outputId": "b8c5883e-b208-48c1-e34b-86004f2f9cad"
      },
      "execution_count": 21,
      "outputs": [
        {
          "output_type": "stream",
          "name": "stdout",
          "text": [
            "[[ 0.18424078  0.45123045 -0.80794232 -0.45071632]\n",
            " [ 0.05751386 -0.89625692  0.40702116 -0.96227246]\n",
            " [-0.85069411 -0.98683683  1.38100432  1.86540035]]\n"
          ]
        },
        {
          "output_type": "stream",
          "name": "stderr",
          "text": [
            "/usr/local/lib/python3.10/dist-packages/sklearn/svm/_base.py:1244: ConvergenceWarning: Liblinear failed to converge, increase the number of iterations.\n",
            "  warnings.warn(\n"
          ]
        }
      ]
    },
    {
      "cell_type": "code",
      "source": [],
      "metadata": {
        "id": "4CrgGbgtahT6"
      },
      "execution_count": 21,
      "outputs": []
    },
    {
      "cell_type": "code",
      "source": [
        "#import the model\n",
        "from sklearn import linear_model\n",
        "reg = linear_model.LinearRegression()\n",
        "# use it to fit a data\n",
        "reg.fit ([[0, 0], [1, 1], [2, 2]], [0, 1, 2])\n",
        "# Let's look into the fitted data\n",
        "print(reg.coef_)"
      ],
      "metadata": {
        "colab": {
          "base_uri": "https://localhost:8080/"
        },
        "id": "Q_l5R84fah_H",
        "outputId": "9690d8c9-feaf-422c-a66b-66d110b5be94"
      },
      "execution_count": 22,
      "outputs": [
        {
          "output_type": "stream",
          "name": "stdout",
          "text": [
            "[0.5 0.5]\n"
          ]
        }
      ]
    },
    {
      "cell_type": "code",
      "source": [
        "from sklearn import datasets\n",
        "# Load dataset\n",
        "iris = datasets.load_iris()\n",
        "# Create and fit a nearest-neighbor classifier\n",
        "from sklearn import neighbors\n",
        "knn = neighbors.KNeighborsClassifier()\n",
        "knn.fit(iris.data, iris.target)\n",
        "# Predict and print the result\n",
        "result=knn.predict([[0.1, 0.2, 0.3, 0.4]])\n",
        "print(result)"
      ],
      "metadata": {
        "colab": {
          "base_uri": "https://localhost:8080/"
        },
        "id": "88emZCXYaKtq",
        "outputId": "aea9e3ab-ff43-4ae4-e322-a2c86608c6b4"
      },
      "execution_count": 23,
      "outputs": [
        {
          "output_type": "stream",
          "name": "stdout",
          "text": [
            "[0]\n"
          ]
        }
      ]
    },
    {
      "cell_type": "code",
      "source": [
        "from sklearn import cluster, datasets\n",
        "# load data\n",
        "iris = datasets.load_iris()\n",
        "# create clusters for k=3\n",
        "k=3\n",
        "k_means = cluster.KMeans(k)\n",
        "# fit data\n",
        "k_means.fit(iris.data)\n",
        "# print results\n",
        "print( k_means.labels_[::10])\n",
        "print( iris.target[::10])"
      ],
      "metadata": {
        "id": "FMAZDtIxbD-3",
        "outputId": "02f7afbf-3889-4dda-b8c0-28ef16aa494a",
        "colab": {
          "base_uri": "https://localhost:8080/"
        }
      },
      "execution_count": 24,
      "outputs": [
        {
          "output_type": "stream",
          "name": "stdout",
          "text": [
            "[0 0 0 0 0 1 2 2 2 2 1 1 1 1 1]\n",
            "[0 0 0 0 0 1 1 1 1 1 2 2 2 2 2]\n"
          ]
        },
        {
          "output_type": "stream",
          "name": "stderr",
          "text": [
            "/usr/local/lib/python3.10/dist-packages/sklearn/cluster/_kmeans.py:870: FutureWarning: The default value of `n_init` will change from 10 to 'auto' in 1.4. Set the value of `n_init` explicitly to suppress the warning\n",
            "  warnings.warn(\n"
          ]
        }
      ]
    }
  ]
}