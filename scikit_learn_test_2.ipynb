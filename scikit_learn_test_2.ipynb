{
  "nbformat": 4,
  "nbformat_minor": 0,
  "metadata": {
    "colab": {
      "provenance": [],
      "include_colab_link": true
    },
    "kernelspec": {
      "name": "python3",
      "display_name": "Python 3"
    },
    "language_info": {
      "name": "python"
    }
  },
  "cells": [
    {
      "cell_type": "markdown",
      "metadata": {
        "id": "view-in-github",
        "colab_type": "text"
      },
      "source": [
        "<a href=\"https://colab.research.google.com/github/anumit-web/scikit-learn----tutorial-1/blob/main/scikit_learn_test_2.ipynb\" target=\"_parent\"><img src=\"https://colab.research.google.com/assets/colab-badge.svg\" alt=\"Open In Colab\"/></a>"
      ]
    },
    {
      "cell_type": "markdown",
      "source": [
        "## scikit-learn\n",
        "## SciPy stands for Scientific Python.\n"
      ],
      "metadata": {
        "id": "Oddud14LnY0w"
      }
    },
    {
      "cell_type": "markdown",
      "source": [
        "Python SciKit Learn Tutorial\n",
        "https://www.digitalocean.com/community/tutorials/python-scikit-learn-tutorial\n",
        "\n",
        "\n"
      ],
      "metadata": {
        "id": "1vIhByhKYMDA"
      }
    },
    {
      "cell_type": "code",
      "source": [
        "from scipy import constants"
      ],
      "metadata": {
        "id": "Qf2jgLNuFUOg"
      },
      "execution_count": null,
      "outputs": []
    }
  ]
}