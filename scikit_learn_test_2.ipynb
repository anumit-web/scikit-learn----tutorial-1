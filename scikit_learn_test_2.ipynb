{
  "nbformat": 4,
  "nbformat_minor": 0,
  "metadata": {
    "colab": {
      "provenance": [],
      "include_colab_link": true
    },
    "kernelspec": {
      "name": "python3",
      "display_name": "Python 3"
    },
    "language_info": {
      "name": "python"
    }
  },
  "cells": [
    {
      "cell_type": "markdown",
      "metadata": {
        "id": "view-in-github",
        "colab_type": "text"
      },
      "source": [
        "<a href=\"https://colab.research.google.com/github/anumit-web/scikit-learn----tutorial-1/blob/main/scikit_learn_test_2.ipynb\" target=\"_parent\"><img src=\"https://colab.research.google.com/assets/colab-badge.svg\" alt=\"Open In Colab\"/></a>"
      ]
    },
    {
      "cell_type": "markdown",
      "source": [
        "## scikit-learn\n"
      ],
      "metadata": {
        "id": "Oddud14LnY0w"
      }
    },
    {
      "cell_type": "markdown",
      "source": [
        "Python SciKit Learn Tutorial\n",
        "\n",
        "https://www.digitalocean.com/community/tutorials/python-scikit-learn-tutorial\n",
        "\n",
        "\n"
      ],
      "metadata": {
        "id": "1vIhByhKYMDA"
      }
    },
    {
      "cell_type": "code",
      "source": [
        "import sklearn"
      ],
      "metadata": {
        "id": "g--UkMF4Y9X3"
      },
      "execution_count": 9,
      "outputs": []
    },
    {
      "cell_type": "code",
      "source": [
        "# Import scikit learn\n",
        "from sklearn import datasets\n",
        "# Load data\n",
        "iris= datasets.load_iris()\n",
        "# Print shape of data to confirm data is loaded\n",
        "print(iris.data.shape)"
      ],
      "metadata": {
        "colab": {
          "base_uri": "https://localhost:8080/"
        },
        "id": "4vnR-YZyZP_8",
        "outputId": "be7ed3bb-d289-47b5-9c84-53f16097b6bd"
      },
      "execution_count": 10,
      "outputs": [
        {
          "output_type": "stream",
          "name": "stdout",
          "text": [
            "(150, 4)\n"
          ]
        }
      ]
    },
    {
      "cell_type": "code",
      "source": [
        "from sklearn import svm\n",
        "from sklearn import datasets\n",
        "# Load dataset\n",
        "iris = datasets.load_iris()\n",
        "clf = svm.LinearSVC()\n",
        "# learn from the data\n",
        "clf.fit(iris.data, iris.target)\n",
        "# predict for unseen data\n",
        "clf.predict([[ 5.0,  3.6,  1.3,  0.25]])\n",
        "# Parameters of model can be changed by using the attributes ending with an underscore\n",
        "print(clf.coef_ )"
      ],
      "metadata": {
        "colab": {
          "base_uri": "https://localhost:8080/"
        },
        "id": "aLLW04QpaDQU",
        "outputId": "285c1a52-ba43-47c0-9b23-7a14203b5db4"
      },
      "execution_count": 11,
      "outputs": [
        {
          "output_type": "stream",
          "name": "stdout",
          "text": [
            "[[ 0.18423812  0.45123194 -0.80794319 -0.45071181]\n",
            " [ 0.05449374 -0.87441782  0.41235264 -0.98998589]\n",
            " [-0.85062595 -0.98659618  1.38117383  1.86547049]]\n"
          ]
        },
        {
          "output_type": "stream",
          "name": "stderr",
          "text": [
            "/usr/local/lib/python3.10/dist-packages/sklearn/svm/_base.py:1244: ConvergenceWarning: Liblinear failed to converge, increase the number of iterations.\n",
            "  warnings.warn(\n"
          ]
        }
      ]
    },
    {
      "cell_type": "code",
      "source": [],
      "metadata": {
        "id": "4CrgGbgtahT6"
      },
      "execution_count": 11,
      "outputs": []
    },
    {
      "cell_type": "code",
      "source": [
        "#import the model\n",
        "from sklearn import linear_model\n",
        "reg = linear_model.LinearRegression()\n",
        "# use it to fit a data\n",
        "reg.fit ([[0, 0], [1, 1], [2, 2]], [0, 1, 2])\n",
        "# Let's look into the fitted data\n",
        "print(reg.coef_)"
      ],
      "metadata": {
        "id": "Q_l5R84fah_H",
        "outputId": "5880c2c5-f880-4230-858e-0e4ae2d4e947",
        "colab": {
          "base_uri": "https://localhost:8080/"
        }
      },
      "execution_count": 12,
      "outputs": [
        {
          "output_type": "stream",
          "name": "stdout",
          "text": [
            "[0.5 0.5]\n"
          ]
        }
      ]
    },
    {
      "cell_type": "code",
      "source": [],
      "metadata": {
        "id": "88emZCXYaKtq"
      },
      "execution_count": 12,
      "outputs": []
    }
  ]
}