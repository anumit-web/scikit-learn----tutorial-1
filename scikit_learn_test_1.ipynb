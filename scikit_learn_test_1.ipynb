{
  "nbformat": 4,
  "nbformat_minor": 0,
  "metadata": {
    "colab": {
      "provenance": []
    },
    "kernelspec": {
      "name": "python3",
      "display_name": "Python 3"
    },
    "language_info": {
      "name": "python"
    }
  },
  "cells": [
    {
      "cell_type": "markdown",
      "source": [
        "## SciPy\n",
        "## SciPy stands for Scientific Python.\n",
        "\n",
        "SciPy was created by NumPy's creator Travis Olliphant"
      ],
      "metadata": {
        "id": "Oddud14LnY0w"
      }
    },
    {
      "cell_type": "code",
      "source": [
        "from scipy import constants"
      ],
      "metadata": {
        "id": "Qf2jgLNuFUOg"
      },
      "execution_count": 83,
      "outputs": []
    },
    {
      "cell_type": "code",
      "source": [
        "from scipy import constants\n",
        "\n",
        "print(constants.liter)"
      ],
      "metadata": {
        "colab": {
          "base_uri": "https://localhost:8080/"
        },
        "id": "VYsciLtnFMQ3",
        "outputId": "407044d2-4eb1-4852-fd26-7fc6ab50843c"
      },
      "execution_count": 84,
      "outputs": [
        {
          "output_type": "stream",
          "name": "stdout",
          "text": [
            "0.001\n"
          ]
        }
      ]
    },
    {
      "cell_type": "code",
      "source": [
        "import scipy\n",
        "\n",
        "print(scipy.__version__)"
      ],
      "metadata": {
        "colab": {
          "base_uri": "https://localhost:8080/"
        },
        "id": "qKdhJqrNFnC1",
        "outputId": "dc8bba37-52d9-4830-8e71-ad84000e169a"
      },
      "execution_count": 85,
      "outputs": [
        {
          "output_type": "stream",
          "name": "stdout",
          "text": [
            "1.11.4\n"
          ]
        }
      ]
    },
    {
      "cell_type": "code",
      "source": [
        "from scipy import constants\n",
        "\n",
        "print(constants.pi)"
      ],
      "metadata": {
        "colab": {
          "base_uri": "https://localhost:8080/"
        },
        "id": "F4a9__wmGQOj",
        "outputId": "def049fe-0475-41ba-eace-d4b6a1e927a4"
      },
      "execution_count": 86,
      "outputs": [
        {
          "output_type": "stream",
          "name": "stdout",
          "text": [
            "3.141592653589793\n"
          ]
        }
      ]
    },
    {
      "cell_type": "code",
      "source": [
        "from scipy import constants\n",
        "\n",
        "print(dir(constants))"
      ],
      "metadata": {
        "colab": {
          "base_uri": "https://localhost:8080/"
        },
        "id": "h3WfMJxQGfH7",
        "outputId": "78b87198-c9ac-45c1-9ba1-2c037c6c0c62"
      },
      "execution_count": 87,
      "outputs": [
        {
          "output_type": "stream",
          "name": "stdout",
          "text": [
            "['Avogadro', 'Boltzmann', 'Btu', 'Btu_IT', 'Btu_th', 'ConstantWarning', 'G', 'Julian_year', 'N_A', 'Planck', 'R', 'Rydberg', 'Stefan_Boltzmann', 'Wien', '__all__', '__builtins__', '__cached__', '__doc__', '__file__', '__loader__', '__name__', '__package__', '__path__', '__spec__', '_codata', '_constants', '_obsolete_constants', 'acre', 'alpha', 'angstrom', 'arcmin', 'arcminute', 'arcsec', 'arcsecond', 'astronomical_unit', 'atm', 'atmosphere', 'atomic_mass', 'atto', 'au', 'bar', 'barrel', 'bbl', 'blob', 'c', 'calorie', 'calorie_IT', 'calorie_th', 'carat', 'centi', 'codata', 'constants', 'convert_temperature', 'day', 'deci', 'degree', 'degree_Fahrenheit', 'deka', 'dyn', 'dyne', 'e', 'eV', 'electron_mass', 'electron_volt', 'elementary_charge', 'epsilon_0', 'erg', 'exa', 'exbi', 'femto', 'fermi', 'find', 'fine_structure', 'fluid_ounce', 'fluid_ounce_US', 'fluid_ounce_imp', 'foot', 'g', 'gallon', 'gallon_US', 'gallon_imp', 'gas_constant', 'gibi', 'giga', 'golden', 'golden_ratio', 'grain', 'gram', 'gravitational_constant', 'h', 'hbar', 'hectare', 'hecto', 'horsepower', 'hour', 'hp', 'inch', 'k', 'kgf', 'kibi', 'kilo', 'kilogram_force', 'kmh', 'knot', 'lambda2nu', 'lb', 'lbf', 'light_year', 'liter', 'litre', 'long_ton', 'm_e', 'm_n', 'm_p', 'm_u', 'mach', 'mebi', 'mega', 'metric_ton', 'micro', 'micron', 'mil', 'mile', 'milli', 'minute', 'mmHg', 'mph', 'mu_0', 'nano', 'nautical_mile', 'neutron_mass', 'nu2lambda', 'ounce', 'oz', 'parsec', 'pebi', 'peta', 'physical_constants', 'pi', 'pico', 'point', 'pound', 'pound_force', 'precision', 'proton_mass', 'psi', 'pt', 'quecto', 'quetta', 'ronna', 'ronto', 'short_ton', 'sigma', 'slinch', 'slug', 'speed_of_light', 'speed_of_sound', 'stone', 'survey_foot', 'survey_mile', 'tebi', 'tera', 'test', 'ton_TNT', 'torr', 'troy_ounce', 'troy_pound', 'u', 'unit', 'value', 'week', 'yard', 'year', 'yobi', 'yocto', 'yotta', 'zebi', 'zepto', 'zero_Celsius', 'zetta']\n"
          ]
        }
      ]
    },
    {
      "cell_type": "markdown",
      "source": [
        "### Metric (SI) Prefixes:"
      ],
      "metadata": {
        "id": "PIeHymPwIy7f"
      }
    },
    {
      "cell_type": "code",
      "source": [
        "from scipy import constants\n",
        "\n",
        "print(constants.yotta)    #1e+24\n",
        "print(constants.zetta)    #1e+21\n",
        "print(constants.exa)      #1e+18\n",
        "print(constants.peta)     #1000000000000000.0\n",
        "print(constants.tera)     #1000000000000.0\n",
        "print(constants.giga)     #1000000000.0\n",
        "print(constants.mega)     #1000000.0\n",
        "print(constants.kilo)     #1000.0\n",
        "print(constants.hecto)    #100.0\n",
        "print(constants.deka)     #10.0\n",
        "print(constants.deci)     #0.1\n",
        "print(constants.centi)    #0.01\n",
        "print(constants.milli)    #0.001\n",
        "print(constants.micro)    #1e-06\n",
        "print(constants.nano)     #1e-09\n",
        "print(constants.pico)     #1e-12\n",
        "print(constants.femto)    #1e-15\n",
        "print(constants.atto)     #1e-18"
      ],
      "metadata": {
        "colab": {
          "base_uri": "https://localhost:8080/"
        },
        "id": "iF58Do98Ij2i",
        "outputId": "af3768f0-785e-4fdd-d2b6-1abda55dd31a"
      },
      "execution_count": 88,
      "outputs": [
        {
          "output_type": "stream",
          "name": "stdout",
          "text": [
            "1e+24\n",
            "1e+21\n",
            "1e+18\n",
            "1000000000000000.0\n",
            "1000000000000.0\n",
            "1000000000.0\n",
            "1000000.0\n",
            "1000.0\n",
            "100.0\n",
            "10.0\n",
            "0.1\n",
            "0.01\n",
            "0.001\n",
            "1e-06\n",
            "1e-09\n",
            "1e-12\n",
            "1e-15\n",
            "1e-18\n"
          ]
        }
      ]
    },
    {
      "cell_type": "markdown",
      "source": [
        "Binary Prefixes:"
      ],
      "metadata": {
        "id": "DcUDrVZnJF_9"
      }
    },
    {
      "cell_type": "code",
      "source": [
        "from scipy import constants\n",
        "\n",
        "print(constants.kibi)    #1024\n",
        "print(constants.mebi)    #1048576\n",
        "print(constants.gibi)    #1073741824\n",
        "print(constants.tebi)    #1099511627776\n",
        "print(constants.pebi)    #1125899906842624\n",
        "print(constants.exbi)    #1152921504606846976\n",
        "print(constants.zebi)    #1180591620717411303424\n",
        "print(constants.yobi)    #1208925819614629174706176"
      ],
      "metadata": {
        "colab": {
          "base_uri": "https://localhost:8080/"
        },
        "id": "iM86bV9dNY6v",
        "outputId": "2281d233-564e-46bd-e2e0-8205f7a5933b"
      },
      "execution_count": 89,
      "outputs": [
        {
          "output_type": "stream",
          "name": "stdout",
          "text": [
            "1024\n",
            "1048576\n",
            "1073741824\n",
            "1099511627776\n",
            "1125899906842624\n",
            "1152921504606846976\n",
            "1180591620717411303424\n",
            "1208925819614629174706176\n"
          ]
        }
      ]
    },
    {
      "cell_type": "code",
      "source": [
        "from scipy import constants\n",
        "\n",
        "print(constants.gram)        #0.001\n",
        "print(constants.metric_ton)  #1000.0\n",
        "print(constants.grain)       #6.479891e-05\n",
        "print(constants.lb)          #0.45359236999999997\n",
        "print(constants.pound)       #0.45359236999999997\n",
        "print(constants.oz)          #0.028349523124999998\n",
        "print(constants.ounce)       #0.028349523124999998\n",
        "print(constants.stone)       #6.3502931799999995\n",
        "print(constants.long_ton)    #1016.0469088\n",
        "print(constants.short_ton)   #907.1847399999999\n",
        "print(constants.troy_ounce)  #0.031103476799999998\n",
        "print(constants.troy_pound)  #0.37324172159999996\n",
        "print(constants.carat)       #0.0002\n",
        "print(constants.atomic_mass) #1.66053904e-27\n",
        "print(constants.m_u)         #1.66053904e-27\n",
        "print(constants.u)           #1.66053904e-27"
      ],
      "metadata": {
        "colab": {
          "base_uri": "https://localhost:8080/"
        },
        "id": "52yGCHwMNvBu",
        "outputId": "6b6f2db9-b23e-45a4-9592-625b2fc8f0ac"
      },
      "execution_count": 90,
      "outputs": [
        {
          "output_type": "stream",
          "name": "stdout",
          "text": [
            "0.001\n",
            "1000.0\n",
            "6.479891e-05\n",
            "0.45359236999999997\n",
            "0.45359236999999997\n",
            "0.028349523124999998\n",
            "0.028349523124999998\n",
            "6.3502931799999995\n",
            "1016.0469088\n",
            "907.1847399999999\n",
            "0.031103476799999998\n",
            "0.37324172159999996\n",
            "0.0002\n",
            "1.6605390666e-27\n",
            "1.6605390666e-27\n",
            "1.6605390666e-27\n"
          ]
        }
      ]
    },
    {
      "cell_type": "code",
      "source": [
        "from scipy import constants\n",
        "\n",
        "print(constants.degree)     #0.017453292519943295\n",
        "print(constants.arcmin)     #0.0002908882086657216\n",
        "print(constants.arcminute)  #0.0002908882086657216\n",
        "print(constants.arcsec)     #4.84813681109536e-06\n",
        "print(constants.arcsecond)  #4.84813681109536e-06"
      ],
      "metadata": {
        "colab": {
          "base_uri": "https://localhost:8080/"
        },
        "id": "OJxyGJswN31L",
        "outputId": "c4fae930-8de7-497b-dfff-5a9d9bf1a313"
      },
      "execution_count": 91,
      "outputs": [
        {
          "output_type": "stream",
          "name": "stdout",
          "text": [
            "0.017453292519943295\n",
            "0.0002908882086657216\n",
            "0.0002908882086657216\n",
            "4.84813681109536e-06\n",
            "4.84813681109536e-06\n"
          ]
        }
      ]
    },
    {
      "cell_type": "code",
      "source": [
        "from scipy import constants\n",
        "\n",
        "print(constants.minute)      #60.0\n",
        "print(constants.hour)        #3600.0\n",
        "print(constants.day)         #86400.0\n",
        "print(constants.week)        #604800.0\n",
        "print(constants.year)        #31536000.0\n",
        "print(constants.Julian_year) #31557600.0"
      ],
      "metadata": {
        "colab": {
          "base_uri": "https://localhost:8080/"
        },
        "id": "XLWJwsGIOOJ2",
        "outputId": "89f66af0-ae08-4afb-e698-cf632ae1bae6"
      },
      "execution_count": 92,
      "outputs": [
        {
          "output_type": "stream",
          "name": "stdout",
          "text": [
            "60.0\n",
            "3600.0\n",
            "86400.0\n",
            "604800.0\n",
            "31536000.0\n",
            "31557600.0\n"
          ]
        }
      ]
    },
    {
      "cell_type": "code",
      "source": [
        "from scipy import constants\n",
        "\n",
        "print(constants.inch)              #0.0254\n",
        "print(constants.foot)              #0.30479999999999996\n",
        "print(constants.yard)              #0.9143999999999999\n",
        "print(constants.mile)              #1609.3439999999998\n",
        "print(constants.mil)               #2.5399999999999997e-05\n",
        "print(constants.pt)                #0.00035277777777777776\n",
        "print(constants.point)             #0.00035277777777777776\n",
        "print(constants.survey_foot)       #0.3048006096012192\n",
        "print(constants.survey_mile)       #1609.3472186944373\n",
        "print(constants.nautical_mile)     #1852.0\n",
        "print(constants.fermi)             #1e-15\n",
        "print(constants.angstrom)          #1e-10\n",
        "print(constants.micron)            #1e-06\n",
        "print(constants.au)                #149597870691.0\n",
        "print(constants.astronomical_unit) #149597870691.0\n",
        "print(constants.light_year)        #9460730472580800.0\n",
        "print(constants.parsec)            #3.0856775813057292e+16"
      ],
      "metadata": {
        "colab": {
          "base_uri": "https://localhost:8080/"
        },
        "id": "iMgxh-27OeaT",
        "outputId": "3ccc9ee7-6aea-45e0-b026-11fa5753e222"
      },
      "execution_count": 93,
      "outputs": [
        {
          "output_type": "stream",
          "name": "stdout",
          "text": [
            "0.0254\n",
            "0.30479999999999996\n",
            "0.9143999999999999\n",
            "1609.3439999999998\n",
            "2.5399999999999997e-05\n",
            "0.00035277777777777776\n",
            "0.00035277777777777776\n",
            "0.3048006096012192\n",
            "1609.3472186944373\n",
            "1852.0\n",
            "1e-15\n",
            "1e-10\n",
            "1e-06\n",
            "149597870700.0\n",
            "149597870700.0\n",
            "9460730472580800.0\n",
            "3.085677581491367e+16\n"
          ]
        }
      ]
    },
    {
      "cell_type": "code",
      "source": [
        "from scipy import constants\n",
        "\n",
        "print(constants.atm)         #101325.0\n",
        "print(constants.atmosphere)  #101325.0\n",
        "print(constants.bar)         #100000.0\n",
        "print(constants.torr)        #133.32236842105263\n",
        "print(constants.mmHg)        #133.32236842105263\n",
        "print(constants.psi)         #6894.757293168361"
      ],
      "metadata": {
        "colab": {
          "base_uri": "https://localhost:8080/"
        },
        "id": "fxvSy9UxOv0u",
        "outputId": "52f09822-276a-4907-c1ae-fc882526347b"
      },
      "execution_count": 94,
      "outputs": [
        {
          "output_type": "stream",
          "name": "stdout",
          "text": [
            "101325.0\n",
            "101325.0\n",
            "100000.0\n",
            "133.32236842105263\n",
            "133.32236842105263\n",
            "6894.757293168361\n"
          ]
        }
      ]
    },
    {
      "cell_type": "code",
      "source": [
        "from scipy import constants\n",
        "\n",
        "print(constants.hectare) #10000.0\n",
        "print(constants.acre)    #4046.8564223999992"
      ],
      "metadata": {
        "colab": {
          "base_uri": "https://localhost:8080/"
        },
        "id": "uBBq1PZ_O_BF",
        "outputId": "04e307de-707b-474c-908d-a5d569d256b9"
      },
      "execution_count": 95,
      "outputs": [
        {
          "output_type": "stream",
          "name": "stdout",
          "text": [
            "10000.0\n",
            "4046.8564223999992\n"
          ]
        }
      ]
    },
    {
      "cell_type": "code",
      "source": [
        "from scipy import constants\n",
        "\n",
        "print(constants.liter)            #0.001\n",
        "print(constants.litre)            #0.001\n",
        "print(constants.gallon)           #0.0037854117839999997\n",
        "print(constants.gallon_US)        #0.0037854117839999997\n",
        "print(constants.gallon_imp)       #0.00454609\n",
        "print(constants.fluid_ounce)      #2.9573529562499998e-05\n",
        "print(constants.fluid_ounce_US)   #2.9573529562499998e-05\n",
        "print(constants.fluid_ounce_imp)  #2.84130625e-05\n",
        "print(constants.barrel)           #0.15898729492799998\n",
        "print(constants.bbl)              #0.15898729492799998"
      ],
      "metadata": {
        "colab": {
          "base_uri": "https://localhost:8080/"
        },
        "id": "o2OtRKScPGOe",
        "outputId": "62ff7682-266a-431a-816c-dd3dd7fa4b4a"
      },
      "execution_count": 96,
      "outputs": [
        {
          "output_type": "stream",
          "name": "stdout",
          "text": [
            "0.001\n",
            "0.001\n",
            "0.0037854117839999997\n",
            "0.0037854117839999997\n",
            "0.00454609\n",
            "2.9573529562499998e-05\n",
            "2.9573529562499998e-05\n",
            "2.84130625e-05\n",
            "0.15898729492799998\n",
            "0.15898729492799998\n"
          ]
        }
      ]
    },
    {
      "cell_type": "code",
      "source": [
        "from scipy import constants\n",
        "\n",
        "print(constants.kmh)            #0.2777777777777778\n",
        "print(constants.mph)            #0.44703999999999994\n",
        "print(constants.mach)           #340.5\n",
        "print(constants.speed_of_sound) #340.5\n",
        "print(constants.knot)           #0.5144444444444445"
      ],
      "metadata": {
        "colab": {
          "base_uri": "https://localhost:8080/"
        },
        "id": "Z-kUB9pbPbZA",
        "outputId": "fed14e8a-7f2b-4c75-d2ae-dded4098de29"
      },
      "execution_count": 97,
      "outputs": [
        {
          "output_type": "stream",
          "name": "stdout",
          "text": [
            "0.2777777777777778\n",
            "0.44703999999999994\n",
            "340.5\n",
            "340.5\n",
            "0.5144444444444445\n"
          ]
        }
      ]
    },
    {
      "cell_type": "code",
      "source": [
        "from scipy import constants\n",
        "\n",
        "print(constants.zero_Celsius)      #273.15\n",
        "print(constants.degree_Fahrenheit) #0.5555555555555556"
      ],
      "metadata": {
        "colab": {
          "base_uri": "https://localhost:8080/"
        },
        "id": "WhUK0jrbPh8e",
        "outputId": "65b957b2-c722-4420-bb9a-4ad8d627e875"
      },
      "execution_count": 98,
      "outputs": [
        {
          "output_type": "stream",
          "name": "stdout",
          "text": [
            "273.15\n",
            "0.5555555555555556\n"
          ]
        }
      ]
    },
    {
      "cell_type": "code",
      "source": [
        "from scipy import constants\n",
        "\n",
        "print(constants.eV)            #1.6021766208e-19\n",
        "print(constants.electron_volt) #1.6021766208e-19\n",
        "print(constants.calorie)       #4.184\n",
        "print(constants.calorie_th)    #4.184\n",
        "print(constants.calorie_IT)    #4.1868\n",
        "print(constants.erg)           #1e-07\n",
        "print(constants.Btu)           #1055.05585262\n",
        "print(constants.Btu_IT)        #1055.05585262\n",
        "print(constants.Btu_th)        #1054.3502644888888\n",
        "print(constants.ton_TNT)       #4184000000.0"
      ],
      "metadata": {
        "colab": {
          "base_uri": "https://localhost:8080/"
        },
        "id": "LL7Cv1tAPs_h",
        "outputId": "0f6f77e9-98f3-4fae-cbe4-b3e3caa241fe"
      },
      "execution_count": 99,
      "outputs": [
        {
          "output_type": "stream",
          "name": "stdout",
          "text": [
            "1.602176634e-19\n",
            "1.602176634e-19\n",
            "4.184\n",
            "4.184\n",
            "4.1868\n",
            "1e-07\n",
            "1055.05585262\n",
            "1055.05585262\n",
            "1054.3502644888888\n",
            "4184000000.0\n"
          ]
        }
      ]
    },
    {
      "cell_type": "code",
      "source": [
        "from scipy import constants\n",
        "\n",
        "print(constants.hp)         #745.6998715822701\n",
        "print(constants.horsepower) #745.6998715822701"
      ],
      "metadata": {
        "colab": {
          "base_uri": "https://localhost:8080/"
        },
        "id": "zy6mnbzHP6Pd",
        "outputId": "62faef7f-fd98-42f9-dc01-bcd1ec2f767b"
      },
      "execution_count": 100,
      "outputs": [
        {
          "output_type": "stream",
          "name": "stdout",
          "text": [
            "745.6998715822701\n",
            "745.6998715822701\n"
          ]
        }
      ]
    },
    {
      "cell_type": "code",
      "source": [
        "from scipy import constants\n",
        "\n",
        "print(constants.dyn)             #1e-05\n",
        "print(constants.dyne)            #1e-05\n",
        "print(constants.lbf)             #4.4482216152605\n",
        "print(constants.pound_force)     #4.4482216152605\n",
        "print(constants.kgf)             #9.80665\n",
        "print(constants.kilogram_force)  #9.80665"
      ],
      "metadata": {
        "colab": {
          "base_uri": "https://localhost:8080/"
        },
        "id": "xaYy4zlcQBmW",
        "outputId": "f60f1a7a-0cc8-46fa-9ccf-8ab0daa65f17"
      },
      "execution_count": 101,
      "outputs": [
        {
          "output_type": "stream",
          "name": "stdout",
          "text": [
            "1e-05\n",
            "1e-05\n",
            "4.4482216152605\n",
            "4.4482216152605\n",
            "9.80665\n",
            "9.80665\n"
          ]
        }
      ]
    }
  ]
}